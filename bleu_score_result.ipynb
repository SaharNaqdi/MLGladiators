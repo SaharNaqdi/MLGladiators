{
  "nbformat": 4,
  "nbformat_minor": 0,
  "metadata": {
    "colab": {
      "provenance": []
    },
    "kernelspec": {
      "name": "python3",
      "display_name": "Python 3"
    },
    "language_info": {
      "name": "python"
    }
  },
  "cells": [
    {
      "cell_type": "code",
      "source": [
        "from google.colab import drive\n",
        "drive.mount('/content/drive')"
      ],
      "metadata": {
        "colab": {
          "base_uri": "https://localhost:8080/"
        },
        "id": "eH7cfzjmtK4B",
        "outputId": "90d63bbe-08a4-46e9-90ad-4736be5fa340"
      },
      "execution_count": 1,
      "outputs": [
        {
          "output_type": "stream",
          "name": "stdout",
          "text": [
            "Mounted at /content/drive\n"
          ]
        }
      ]
    },
    {
      "cell_type": "code",
      "source": [
        "import torch\n",
        "from transformers import T5Tokenizer, T5ForConditionalGeneration\n",
        "from torch.utils.data import Dataset, DataLoader\n",
        "#from datasets import load_metric\n",
        "import random\n",
        "import pandas as pd\n",
        "import os"
      ],
      "metadata": {
        "id": "VlDo3ctrt0Uy"
      },
      "execution_count": 2,
      "outputs": []
    },
    {
      "cell_type": "markdown",
      "source": [
        "# LLM-gpt3.5"
      ],
      "metadata": {
        "id": "qF31O3vQIeAd"
      }
    },
    {
      "cell_type": "code",
      "source": [
        "file_path = \"/content/drive/MyDrive/LLM_translation.csv\"\n",
        "df = pd.read_csv(file_path)"
      ],
      "metadata": {
        "id": "4rAgAD2-t3DU"
      },
      "execution_count": 4,
      "outputs": []
    },
    {
      "cell_type": "code",
      "source": [
        "refrence=df['fa_text']\n",
        "output=df['LLM_translation']"
      ],
      "metadata": {
        "id": "wmVTuSqZuKYI"
      },
      "execution_count": 5,
      "outputs": []
    },
    {
      "cell_type": "code",
      "source": [
        "for i in range(10):\n",
        "  print (refrence[i])"
      ],
      "metadata": {
        "colab": {
          "base_uri": "https://localhost:8080/"
        },
        "id": "8sXVNCoSySMZ",
        "outputId": "74706cf6-4f7b-47d5-abf5-66ab43ebe514"
      },
      "execution_count": 11,
      "outputs": [
        {
          "output_type": "stream",
          "name": "stdout",
          "text": [
            "نظرت درمورد کتابدار چیه؟ خیلی خوبن\n",
            "خانم کمین ببخشید ولی نمیشه\n",
            "میکروفیزیک ابر - بچه‌ها -\n",
            "- اونا اسکیت بازی میکنن - و کسی شکایت کرده؟\n",
            "میشه بهم بگی چه خبره؟\n",
            "بچه رو به جاش نگه دارم؟\n",
            "بریم داده‌هامون رو جمع کنیم\n",
            "ولی خوش گذشت. نه؟\n",
            "! گریپ‌فروت‌ه\n",
            "حتما\n"
          ]
        }
      ]
    },
    {
      "cell_type": "code",
      "source": [
        "for i in range(10):\n",
        "  print (output[i])"
      ],
      "metadata": {
        "colab": {
          "base_uri": "https://localhost:8080/"
        },
        "id": "5Gwq4aq2ycny",
        "outputId": "595ce7ad-5fd2-4834-acd6-9b71153e32c5"
      },
      "execution_count": 12,
      "outputs": [
        {
          "output_type": "stream",
          "name": "stdout",
          "text": [
            "چطور بود یه کتابدار؟ خیلی باحالن...\n",
            "متأسفم خانم کامن، ولی نمی‌تونم اون کارو انجام بدم.\n",
            "فیزیک میکروابری ابر - بچه‌ها..\n",
            "دارن اسکیت می‌زنن. - واسه چیزی شکایت شده؟\n",
            "می‌تونی بهم بگی چی داره می‌گذره؟\n",
            "تک بهت می موند کودکو؟\n",
            "بیا دیتامونو بگیریم.\n",
            "چه خوب بود، درسته؟\n",
            "لیمو ترش!\n",
            "حالا..\n"
          ]
        }
      ]
    },
    {
      "cell_type": "code",
      "execution_count": 7,
      "metadata": {
        "colab": {
          "base_uri": "https://localhost:8080/"
        },
        "id": "lcl7AMIstIXQ",
        "outputId": "1ad56447-88be-44ad-8eb9-bfb820685b92"
      },
      "outputs": [
        {
          "output_type": "stream",
          "name": "stdout",
          "text": [
            "Average BLEU score: 0.04768681057887056\n"
          ]
        }
      ],
      "source": [
        "import nltk\n",
        "from nltk.translate.bleu_score import sentence_bleu, SmoothingFunction\n",
        "\n",
        "def calculate_bleu(reference_sentence, candidate_sentence):\n",
        "    # تبدیل جملات ورودی به لیست از کلمات\n",
        "    reference = [reference_sentence.split()]  # ترجمه مرجع (باید به عنوان یک لیست از لیست‌ها باشد)\n",
        "    candidate = candidate_sentence.split()    # ترجمه ماشینی\n",
        "\n",
        "    # محاسبه BLEU score\n",
        "    smoothie = SmoothingFunction().method4\n",
        "    bleu_score = sentence_bleu(reference, candidate, smoothing_function=smoothie)\n",
        "\n",
        "    return bleu_score\n",
        "\n",
        "\n",
        "bleu_scores = []\n",
        "for ref, out in zip(df['fa_text'], df['LLM_translation']):\n",
        "    bleu_scores.append(calculate_bleu(ref, out))\n",
        "\n",
        "average_bleu_score = sum(bleu_scores) / len(bleu_scores)\n",
        "\n",
        "print(f\"Average BLEU score: {average_bleu_score}\")\n"
      ]
    },
    {
      "cell_type": "markdown",
      "source": [
        "# LSTM"
      ],
      "metadata": {
        "id": "UkQfmBe9Imz_"
      }
    },
    {
      "cell_type": "code",
      "source": [
        "file_path = \"/content/drive/MyDrive/LSTM_translate.csv\"\n",
        "df = pd.read_csv(file_path)"
      ],
      "metadata": {
        "id": "aYSCGP8BwTyS"
      },
      "execution_count": 46,
      "outputs": []
    },
    {
      "cell_type": "code",
      "source": [
        "refrence_=df['fa_text']\n",
        "output=df['translated_text']"
      ],
      "metadata": {
        "id": "bRfNEeR2yH1I"
      },
      "execution_count": 47,
      "outputs": []
    },
    {
      "cell_type": "code",
      "source": [
        "for i in range(10):\n",
        "  print (refrence[i])"
      ],
      "metadata": {
        "colab": {
          "base_uri": "https://localhost:8080/"
        },
        "id": "R3okg82Vy_qT",
        "outputId": "e1760a7f-6af4-4add-8c67-4199bb749091"
      },
      "execution_count": 48,
      "outputs": [
        {
          "output_type": "stream",
          "name": "stdout",
          "text": [
            "نظرت درمورد کتابدار چیه؟ خیلی خوبن\n",
            "خانم کمین ببخشید ولی نمیشه\n",
            "میکروفیزیک ابر - بچه‌ها -\n",
            "- اونا اسکیت بازی میکنن - و کسی شکایت کرده؟\n",
            "میشه بهم بگی چه خبره؟\n",
            "بچه رو به جاش نگه دارم؟\n",
            "بریم داده‌هامون رو جمع کنیم\n",
            "ولی خوش گذشت. نه؟\n",
            "! گریپ‌فروت‌ه\n",
            "حتما\n"
          ]
        }
      ]
    },
    {
      "cell_type": "code",
      "source": [
        "for i in range(10):\n",
        "  print (output[i])"
      ],
      "metadata": {
        "colab": {
          "base_uri": "https://localhost:8080/"
        },
        "id": "GTY7YYLUzD6n",
        "outputId": "3ea69d59-3921-48de-cf04-27d1d6603a7d"
      },
      "execution_count": 49,
      "outputs": [
        {
          "output_type": "stream",
          "name": "stdout",
          "text": [
            "این چقدر که\n",
            "من من من\n",
            "فوق یواش‌یواش\n",
            "و مثل مثل رو\n",
            "چه چیزی داری؟\n",
            "و رو رو\n",
            "باید\n",
            "خیلی خیلی\n",
            "جوان\n",
            "خیلی\n"
          ]
        }
      ]
    },
    {
      "cell_type": "code",
      "source": [
        "# Function to calculate BLEU score\n",
        "def calculate_bleu(reference_sentence, candidate_sentence):\n",
        "    # Check if both inputs are strings; skip if they are not\n",
        "    if isinstance(reference_sentence, str) and isinstance(candidate_sentence, str):\n",
        "        reference = [reference_sentence.split()]  # List of words from the reference sentence\n",
        "        candidate = candidate_sentence.split()    # List of words from the candidate sentence\n",
        "\n",
        "        # BLEU score calculation with smoothing\n",
        "        smoothie = SmoothingFunction().method4\n",
        "        bleu_score = sentence_bleu(reference, candidate, smoothing_function=smoothie)\n",
        "        return bleu_score\n",
        "    else:\n",
        "        # Return 0 if input is not valid (e.g., NaN or float)\n",
        "        return 0\n",
        "\n",
        "\n",
        "bleu_scores_lstm = []\n",
        "for ref1, out1 in zip(refrence, output):\n",
        "    bleu_scores_lstm.append(calculate_bleu(ref1, out1))\n",
        "\n",
        "average_bleu_score_lstm = sum(bleu_scores_lstm) / len(bleu_scores_lstm)\n",
        "\n",
        "print(f\"Average BLEU score: {average_bleu_score_lstm}\")"
      ],
      "metadata": {
        "colab": {
          "base_uri": "https://localhost:8080/"
        },
        "id": "6U8L9p5ezNsD",
        "outputId": "09b01555-d3a2-4095-c855-58b13b1d9d39"
      },
      "execution_count": 50,
      "outputs": [
        {
          "output_type": "stream",
          "name": "stdout",
          "text": [
            "Average BLEU score: 0.030655995385526314\n"
          ]
        }
      ]
    },
    {
      "cell_type": "markdown",
      "source": [
        "# RNN"
      ],
      "metadata": {
        "id": "uEUwHRFdItQY"
      }
    },
    {
      "cell_type": "code",
      "source": [
        "file_path = \"/content/drive/MyDrive/RNN_translation.csv\"\n",
        "df = pd.read_csv(file_path)"
      ],
      "metadata": {
        "id": "Nz_n-kSe38OF"
      },
      "execution_count": 51,
      "outputs": []
    },
    {
      "cell_type": "code",
      "source": [
        "refrence_=df['fa_text']\n",
        "output=df['translated_text']"
      ],
      "metadata": {
        "id": "Ulm_vNU91VOS"
      },
      "execution_count": 52,
      "outputs": []
    },
    {
      "cell_type": "code",
      "source": [
        "for i in range(10):\n",
        "  print (refrence[i])"
      ],
      "metadata": {
        "colab": {
          "base_uri": "https://localhost:8080/"
        },
        "id": "cwlcVD552LkJ",
        "outputId": "aae3caa9-badd-427a-fb0d-4b5de4f9ed20"
      },
      "execution_count": 53,
      "outputs": [
        {
          "output_type": "stream",
          "name": "stdout",
          "text": [
            "نظرت درمورد کتابدار چیه؟ خیلی خوبن\n",
            "خانم کمین ببخشید ولی نمیشه\n",
            "میکروفیزیک ابر - بچه‌ها -\n",
            "- اونا اسکیت بازی میکنن - و کسی شکایت کرده؟\n",
            "میشه بهم بگی چه خبره؟\n",
            "بچه رو به جاش نگه دارم؟\n",
            "بریم داده‌هامون رو جمع کنیم\n",
            "ولی خوش گذشت. نه؟\n",
            "! گریپ‌فروت‌ه\n",
            "حتما\n"
          ]
        }
      ]
    },
    {
      "cell_type": "code",
      "source": [
        "for i in range(10):\n",
        "  print (output[i])"
      ],
      "metadata": {
        "colab": {
          "base_uri": "https://localhost:8080/"
        },
        "id": "5BQRaPfi2SYH",
        "outputId": "273468df-1551-45c0-e80c-e89f1f9f7bfe"
      },
      "execution_count": 54,
      "outputs": [
        {
          "output_type": "stream",
          "name": "stdout",
          "text": [
            "این که که که\n",
            "من من من\n",
            "…طبق جشنواره\n",
            "این که به و\n",
            "چرا که که\n",
            "اون رو رو\n",
            "اینجا\n",
            "چیزی رو\n",
            "کیت\n",
            "من\n"
          ]
        }
      ]
    },
    {
      "cell_type": "code",
      "source": [
        "# Function to calculate BLEU score\n",
        "def calculate_bleu(reference_sentence, candidate_sentence):\n",
        "    # Check if both inputs are strings; skip if they are not\n",
        "    if isinstance(reference_sentence, str) and isinstance(candidate_sentence, str):\n",
        "        reference = [reference_sentence.split()]  # List of words from the reference sentence\n",
        "        candidate = candidate_sentence.split()    # List of words from the candidate sentence\n",
        "\n",
        "        # BLEU score calculation with smoothing\n",
        "        smoothie = SmoothingFunction().method4\n",
        "        bleu_score = sentence_bleu(reference, candidate, smoothing_function=smoothie)\n",
        "        return bleu_score\n",
        "    else:\n",
        "        # Return 0 if input is not valid (e.g., NaN or float)\n",
        "        return 0\n",
        "\n",
        "\n",
        "bleu_scores_rnn = []\n",
        "for ref2, out2 in zip(refrence, output):\n",
        "    bleu_scores_rnn.append(calculate_bleu(ref2, out2))\n",
        "\n",
        "average_bleu_score_rnn = sum(bleu_scores_rnn) / len(bleu_scores_rnn)\n",
        "\n",
        "print(f\"Average BLEU score: {average_bleu_score_rnn}\")"
      ],
      "metadata": {
        "colab": {
          "base_uri": "https://localhost:8080/"
        },
        "id": "psC0w_3Q2h9Y",
        "outputId": "1ef917f3-2b2c-44a2-fc7f-387007fe99f3"
      },
      "execution_count": 56,
      "outputs": [
        {
          "output_type": "stream",
          "name": "stdout",
          "text": [
            "Average BLEU score: 0.006526942436410474\n"
          ]
        }
      ]
    },
    {
      "cell_type": "markdown",
      "source": [
        "# Fine tuning T5"
      ],
      "metadata": {
        "id": "rAt4YlZaIwvM"
      }
    },
    {
      "cell_type": "code",
      "source": [
        "file_path = \"/content/drive/MyDrive/t5_translation.csv\"\n",
        "df = pd.read_csv(file_path)"
      ],
      "metadata": {
        "id": "igv0kBr4KHBj"
      },
      "execution_count": 64,
      "outputs": []
    },
    {
      "cell_type": "code",
      "source": [
        "refrence_=df['fa_text']\n",
        "output=df['T5_translation']"
      ],
      "metadata": {
        "id": "zzyPtQbnKhY3"
      },
      "execution_count": 66,
      "outputs": []
    },
    {
      "cell_type": "code",
      "source": [
        "for i in range(10):\n",
        "  print (refrence[i])"
      ],
      "metadata": {
        "colab": {
          "base_uri": "https://localhost:8080/"
        },
        "id": "16YBE3pCKryA",
        "outputId": "443787e4-4ee2-4518-eee7-93aae597b4e1"
      },
      "execution_count": 67,
      "outputs": [
        {
          "output_type": "stream",
          "name": "stdout",
          "text": [
            "نظرت درمورد کتابدار چیه؟ خیلی خوبن\n",
            "خانم کمین ببخشید ولی نمیشه\n",
            "میکروفیزیک ابر - بچه‌ها -\n",
            "- اونا اسکیت بازی میکنن - و کسی شکایت کرده؟\n",
            "میشه بهم بگی چه خبره؟\n",
            "بچه رو به جاش نگه دارم؟\n",
            "بریم داده‌هامون رو جمع کنیم\n",
            "ولی خوش گذشت. نه؟\n",
            "! گریپ‌فروت‌ه\n",
            "حتما\n"
          ]
        }
      ]
    },
    {
      "cell_type": "code",
      "source": [
        "for i in range(10):\n",
        "  print (output[i])"
      ],
      "metadata": {
        "colab": {
          "base_uri": "https://localhost:8080/"
        },
        "id": "cP4b0muDKwCd",
        "outputId": "faefe286-02c8-4e80-d95d-4706ea37285f"
      },
      "execution_count": 68,
      "outputs": [
        {
          "output_type": "stream",
          "name": "stdout",
          "text": [
            "نظریه در مورد کتابدار چیه؟ خیلی خوبه؟\n",
            "خانم کوین، ببخشید، ولی ممکنه\n",
            "چشمه ی سمی سکو - بچه ها -\n",
            "- اونا بازی اسکیت را شروع می کنند؟ - و کس دیگری شکست خورده؟\n",
            "ایا باید به گم گیو چه خبره؟\n",
            "بچه رو به جاش ببر ؟\n",
            "بریم داده هامون رو جمع کنیم\n",
            "ولی خوشحالم که باید سفر کنم نه؟\n",
            "گریپ فرویت\n",
            "حتما\n"
          ]
        }
      ]
    },
    {
      "cell_type": "code",
      "source": [
        "# Function to calculate BLEU score\n",
        "def calculate_bleu(reference_sentence, candidate_sentence):\n",
        "    # Check if both inputs are strings; skip if they are not\n",
        "    if isinstance(reference_sentence, str) and isinstance(candidate_sentence, str):\n",
        "        reference = [reference_sentence.split()]  # List of words from the reference sentence\n",
        "        candidate = candidate_sentence.split()    # List of words from the candidate sentence\n",
        "\n",
        "        # BLEU score calculation with smoothing\n",
        "        smoothie = SmoothingFunction().method4\n",
        "        bleu_score = sentence_bleu(reference, candidate, smoothing_function=smoothie)\n",
        "        return bleu_score\n",
        "    else:\n",
        "        # Return 0 if input is not valid (e.g., NaN or float)\n",
        "        return 0\n",
        "\n",
        "\n",
        "bleu_scores_t5_f = []\n",
        "for ref3, out3 in zip(refrence, output):\n",
        "    bleu_scores_t5_f.append(calculate_bleu(ref3, out3))\n",
        "\n",
        "average_bleu_score_t5_f = sum(bleu_scores_t5_f) / len(bleu_scores_t5_f)\n",
        "\n",
        "print(f\"Average BLEU score: {average_bleu_score_t5_f}\")"
      ],
      "metadata": {
        "colab": {
          "base_uri": "https://localhost:8080/"
        },
        "id": "EfrEEW9iLCYU",
        "outputId": "71e0adc6-a724-4382-f6e7-1beb880359f3"
      },
      "execution_count": 69,
      "outputs": [
        {
          "output_type": "stream",
          "name": "stdout",
          "text": [
            "Average BLEU score: 0.1374892445008715\n"
          ]
        }
      ]
    },
    {
      "cell_type": "markdown",
      "source": [
        "# T5 orginal"
      ],
      "metadata": {
        "id": "1jWcOdp1I8ba"
      }
    },
    {
      "cell_type": "code",
      "source": [
        "file_path = \"/content/drive/MyDrive/t5_orginal_translation.csv\"\n",
        "df = pd.read_csv(file_path)"
      ],
      "metadata": {
        "id": "xNN6vn-VMNdV"
      },
      "execution_count": 70,
      "outputs": []
    },
    {
      "cell_type": "code",
      "source": [
        "refrence_=df['fa_text']\n",
        "output=df['T5_translation']"
      ],
      "metadata": {
        "id": "2ORCmzlzPzRK"
      },
      "execution_count": 71,
      "outputs": []
    },
    {
      "cell_type": "code",
      "source": [
        "for i in range(10):\n",
        "  print (refrence[i])"
      ],
      "metadata": {
        "colab": {
          "base_uri": "https://localhost:8080/"
        },
        "id": "PpYLZmrgP3Zp",
        "outputId": "dab0d0fb-3494-4fe0-83cb-de896a885472"
      },
      "execution_count": 72,
      "outputs": [
        {
          "output_type": "stream",
          "name": "stdout",
          "text": [
            "نظرت درمورد کتابدار چیه؟ خیلی خوبن\n",
            "خانم کمین ببخشید ولی نمیشه\n",
            "میکروفیزیک ابر - بچه‌ها -\n",
            "- اونا اسکیت بازی میکنن - و کسی شکایت کرده؟\n",
            "میشه بهم بگی چه خبره؟\n",
            "بچه رو به جاش نگه دارم؟\n",
            "بریم داده‌هامون رو جمع کنیم\n",
            "ولی خوش گذشت. نه؟\n",
            "! گریپ‌فروت‌ه\n",
            "حتما\n"
          ]
        }
      ]
    },
    {
      "cell_type": "code",
      "source": [
        "for i in range(10):\n",
        "  print (output[i])"
      ],
      "metadata": {
        "colab": {
          "base_uri": "https://localhost:8080/"
        },
        "id": "IH91IAw3P61Q",
        "outputId": "d1e3dfb8-ea32-422f-e757-845602ca1d6d"
      },
      "execution_count": 73,
      "outputs": [
        {
          "output_type": "stream",
          "name": "stdout",
          "text": [
            "نظریه در مورد کتابخانه چیست؟ خیلی خوبم.\n",
            "خانم کوین لطفا ولی ممکن نیست\n",
            "چشمه ی کرم سیک - بچه ها -\n",
            "- بازی اسکیت نشان می دهد- و کسانی شکست خوردند؟\n",
            "آیا می تواند به عنوان خبردار به من بگوید؟\n",
            "بچه را به جاش نگه می دارم؟\n",
            "صفحه های داده را جمع می کنیم\n",
            "اما خوشحال شدم. نه؟\n",
            "! گریپ فروتن\n",
            "حتما\n"
          ]
        }
      ]
    },
    {
      "cell_type": "code",
      "source": [
        "# Function to calculate BLEU score\n",
        "def calculate_bleu(reference_sentence, candidate_sentence):\n",
        "    # Check if both inputs are strings; skip if they are not\n",
        "    if isinstance(reference_sentence, str) and isinstance(candidate_sentence, str):\n",
        "        reference = [reference_sentence.split()]  # List of words from the reference sentence\n",
        "        candidate = candidate_sentence.split()    # List of words from the candidate sentence\n",
        "\n",
        "        # BLEU score calculation with smoothing\n",
        "        smoothie = SmoothingFunction().method4\n",
        "        bleu_score = sentence_bleu(reference, candidate, smoothing_function=smoothie)\n",
        "        return bleu_score\n",
        "    else:\n",
        "        # Return 0 if input is not valid (e.g., NaN or float)\n",
        "        return 0\n",
        "\n",
        "\n",
        "bleu_scores_t5_o = []\n",
        "for ref4, out4 in zip(refrence, output):\n",
        "    bleu_scores_t5_o.append(calculate_bleu(ref4, out4))\n",
        "\n",
        "average_bleu_score_t5_o = sum(bleu_scores_t5_o) / len(bleu_scores_t5_o)\n",
        "\n",
        "print(f\"Average BLEU score: {average_bleu_score_t5_o}\")"
      ],
      "metadata": {
        "colab": {
          "base_uri": "https://localhost:8080/"
        },
        "id": "4ZFVtLlXQBn6",
        "outputId": "046f22e8-d83a-4de5-8cc7-ac6bd1f250b9"
      },
      "execution_count": 74,
      "outputs": [
        {
          "output_type": "stream",
          "name": "stdout",
          "text": [
            "Average BLEU score: 0.10109792896035624\n"
          ]
        }
      ]
    },
    {
      "cell_type": "markdown",
      "source": [
        "# LLM - gpt 4o"
      ],
      "metadata": {
        "id": "g-S0GVVvJCyf"
      }
    },
    {
      "cell_type": "code",
      "source": [
        "file_path = \"/content/drive/MyDrive/LLM_translation_gpt4o.csv\"\n",
        "df = pd.read_csv(file_path)"
      ],
      "metadata": {
        "id": "jdq50DHnFZho"
      },
      "execution_count": 4,
      "outputs": []
    },
    {
      "cell_type": "code",
      "source": [
        "refrence=df['fa_text']\n",
        "output=df['LLM_translation']"
      ],
      "metadata": {
        "id": "NR2ZdSmnGWyx"
      },
      "execution_count": 7,
      "outputs": []
    },
    {
      "cell_type": "code",
      "source": [
        "for i in range(10):\n",
        "  print (refrence[i])"
      ],
      "metadata": {
        "colab": {
          "base_uri": "https://localhost:8080/"
        },
        "id": "SoN3lwPjGgHu",
        "outputId": "ac446e9f-b52d-4822-b9c6-56eb7829178f"
      },
      "execution_count": 8,
      "outputs": [
        {
          "output_type": "stream",
          "name": "stdout",
          "text": [
            "نظرت درمورد کتابدار چیه؟ خیلی خوبن\n",
            "خانم کمین ببخشید ولی نمیشه\n",
            "میکروفیزیک ابر - بچه‌ها -\n",
            "- اونا اسکیت بازی میکنن - و کسی شکایت کرده؟\n",
            "میشه بهم بگی چه خبره؟\n",
            "بچه رو به جاش نگه دارم؟\n",
            "بریم داده‌هامون رو جمع کنیم\n",
            "ولی خوش گذشت. نه؟\n",
            "! گریپ‌فروت‌ه\n",
            "حتما\n"
          ]
        }
      ]
    },
    {
      "cell_type": "code",
      "source": [
        "for i in range(10):\n",
        "  print (output[i])"
      ],
      "metadata": {
        "colab": {
          "base_uri": "https://localhost:8080/"
        },
        "id": "wEAjRplAGkZd",
        "outputId": "70970513-7b01-4f3b-c549-6d725e546f4e"
      },
      "execution_count": 9,
      "outputs": [
        {
          "output_type": "stream",
          "name": "stdout",
          "text": [
            "نظرت درباره یک کتابدار چیه؟ اونا باحالن..\n",
            "متاسفم خانم کامن، ولی نمی‌تونم این کارو بکنم.\n",
            "ریزفیزیک ابرها. - بچه‌ها\n",
            "اون‌ها دارن اسکیت بازی می‌کنن. - و یکی شکایت کرده؟\n",
            "میشه بهم بگی چه خبره؟\n",
            "مگه بچه رو نگه نمی‌داریم؟\n",
            "بیا داده‌هامون رو برداریم.\n",
            "آره ولی خوش گذشت، نه؟\n",
            "گریپ‌فروت!\n",
            "البته..\n"
          ]
        }
      ]
    },
    {
      "cell_type": "code",
      "source": [
        "import nltk\n",
        "from nltk.translate.bleu_score import sentence_bleu, SmoothingFunction\n",
        "# Function to calculate BLEU score\n",
        "def calculate_bleu(reference_sentence, candidate_sentence):\n",
        "    # Check if both inputs are strings; skip if they are not\n",
        "    if isinstance(reference_sentence, str) and isinstance(candidate_sentence, str):\n",
        "        reference = [reference_sentence.split()]  # List of words from the reference sentence\n",
        "        candidate = candidate_sentence.split()    # List of words from the candidate sentence\n",
        "\n",
        "        # BLEU score calculation with smoothing\n",
        "        smoothie = SmoothingFunction().method4\n",
        "        bleu_score = sentence_bleu(reference, candidate, smoothing_function=smoothie)\n",
        "        return bleu_score\n",
        "    else:\n",
        "        # Return 0 if input is not valid (e.g., NaN or float)\n",
        "        return 0\n",
        "\n",
        "\n",
        "bleu_scores_llm_gp4o = []\n",
        "for ref5, out5 in zip(refrence, output):\n",
        "    bleu_scores_llm_gp4o.append(calculate_bleu(ref5, out5))\n",
        "\n",
        "average_bleu_score_llm_gpt4o = sum(bleu_scores_llm_gp4o) / len(bleu_scores_llm_gp4o)\n",
        "\n",
        "print(f\"Average BLEU score: {average_bleu_score_llm_gpt4o}\")"
      ],
      "metadata": {
        "colab": {
          "base_uri": "https://localhost:8080/"
        },
        "id": "UEO988FUGzsl",
        "outputId": "e060b1ee-00b0-4761-b3ac-065afd862177"
      },
      "execution_count": 11,
      "outputs": [
        {
          "output_type": "stream",
          "name": "stdout",
          "text": [
            "Average BLEU score: 0.08206372239373919\n"
          ]
        }
      ]
    }
  ]
}